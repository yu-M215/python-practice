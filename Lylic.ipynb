{
 "cells": [
  {
   "cell_type": "code",
   "execution_count": 2,
   "id": "5492252e",
   "metadata": {},
   "outputs": [],
   "source": [
    "spam = \"spam\""
   ]
  },
  {
   "cell_type": "code",
   "execution_count": 3,
   "id": "a7094645",
   "metadata": {},
   "outputs": [],
   "source": [
    "a_lylic = \"でもね私のエネルギーは\""
   ]
  },
  {
   "cell_type": "code",
   "execution_count": 4,
   "id": "02330b0e",
   "metadata": {},
   "outputs": [],
   "source": [
    "a_lylic = a_lylic + \"すでにインフィニティだよ。\""
   ]
  },
  {
   "cell_type": "code",
   "execution_count": 5,
   "id": "87bb1c83",
   "metadata": {},
   "outputs": [
    {
     "data": {
      "text/plain": [
       "'でもね私のエネルギーはすでにインフィニティだよ。'"
      ]
     },
     "execution_count": 5,
     "metadata": {},
     "output_type": "execute_result"
    }
   ],
   "source": [
    "a_lylic"
   ]
  },
  {
   "cell_type": "code",
   "execution_count": 6,
   "id": "90683478",
   "metadata": {},
   "outputs": [],
   "source": [
    "lylic2 = \"ずっと笑顔ばかりを選んで\""
   ]
  },
  {
   "cell_type": "code",
   "execution_count": 7,
   "id": "a9dcdbfe",
   "metadata": {},
   "outputs": [],
   "source": [
    "lylic2 += \"泣き顔見せるのを迷ってた\""
   ]
  },
  {
   "cell_type": "code",
   "execution_count": 8,
   "id": "1b0de473",
   "metadata": {},
   "outputs": [
    {
     "data": {
      "text/plain": [
       "'ずっと笑顔ばかりを選んで泣き顔見せるのを迷ってた'"
      ]
     },
     "execution_count": 8,
     "metadata": {},
     "output_type": "execute_result"
    }
   ],
   "source": [
    "lylic2"
   ]
  },
  {
   "cell_type": "code",
   "execution_count": 9,
   "id": "c1f72879",
   "metadata": {},
   "outputs": [],
   "source": [
    "lylic3 = \"\"\"強い人になろうとして\n",
    "弱い僕を封じ込めて\n",
    "一人ぼっちになった\"\"\""
   ]
  },
  {
   "cell_type": "code",
   "execution_count": 10,
   "id": "f653dab4",
   "metadata": {},
   "outputs": [
    {
     "data": {
      "text/plain": [
       "'強い人になろうとして\\n弱い僕を封じ込めて\\n一人ぼっちになった'"
      ]
     },
     "execution_count": 10,
     "metadata": {},
     "output_type": "execute_result"
    }
   ],
   "source": [
    "lylic3"
   ]
  },
  {
   "cell_type": "code",
   "execution_count": 36,
   "id": "cb5f95c1",
   "metadata": {},
   "outputs": [],
   "source": [
    "debi_lylic = \"重たい扉から生まれた 異界の霧が月を呑む\""
   ]
  },
  {
   "cell_type": "code",
   "execution_count": 12,
   "id": "1488f5e1",
   "metadata": {},
   "outputs": [],
   "source": [
    "debi_lylic2 = \"しっぽで割った夜空の風は 冷たい悲鳴が聞こえてる\""
   ]
  },
  {
   "cell_type": "code",
   "execution_count": 13,
   "id": "9f0f3e8b",
   "metadata": {},
   "outputs": [],
   "source": [
    "debi_lylic3 = \"窮屈な窓の向こうから 嗄れた悲鳴が聞こえてる\""
   ]
  },
  {
   "cell_type": "code",
   "execution_count": 14,
   "id": "6ddb5710",
   "metadata": {},
   "outputs": [],
   "source": [
    "debi_lylic4 = \"この世で恐ろしいことは 恐怖よりも退屈だった\""
   ]
  },
  {
   "cell_type": "code",
   "execution_count": 15,
   "id": "84ba827d",
   "metadata": {},
   "outputs": [],
   "source": [
    "debi_lylic5 = \"哀れだね、人間 笑い止まらない その涙をいただくよ\""
   ]
  },
  {
   "cell_type": "code",
   "execution_count": 16,
   "id": "29e3b6bc",
   "metadata": {},
   "outputs": [],
   "source": [
    "debi_lylic6 = \"絶望が踊る12時過ぎに 契約を交わそうよ\""
   ]
  },
  {
   "cell_type": "code",
   "execution_count": 17,
   "id": "f21919fe",
   "metadata": {},
   "outputs": [],
   "source": [
    "debi_lylic7 = \"でっびーでびでび 悪魔の ぼくにちょうだい アイスクリーム\""
   ]
  },
  {
   "cell_type": "code",
   "execution_count": 18,
   "id": "cde74bb4",
   "metadata": {},
   "outputs": [],
   "source": [
    "debi_lylic8 = \"楽しい宴は続く 時代を飛び越えて\""
   ]
  },
  {
   "cell_type": "code",
   "execution_count": 19,
   "id": "89a1aa95",
   "metadata": {},
   "outputs": [],
   "source": [
    "debi_lylic9 = \"でっびーでびでび 人類よ さあ聞かせて冷えたスクリーム\""
   ]
  },
  {
   "cell_type": "code",
   "execution_count": 20,
   "id": "8dae00f1",
   "metadata": {},
   "outputs": [],
   "source": [
    "debi_lylic10 = \"\"\"\"だってドキドキは美味しい 最高のご馳走\n",
    "ああ 恐ろしい\"\"\""
   ]
  },
  {
   "cell_type": "code",
   "execution_count": 37,
   "id": "40d7f346",
   "metadata": {},
   "outputs": [],
   "source": [
    "debi_lylic = debi_lylic + debi_lylic2 + debi_lylic3 + debi_lylic4 + debi_lylic5 + debi_lylic6 + debi_lylic7 + debi_lylic8 + debi_lylic9 + debi_lylic10"
   ]
  },
  {
   "cell_type": "code",
   "execution_count": 38,
   "id": "a3c7f639",
   "metadata": {},
   "outputs": [
    {
     "name": "stdout",
     "output_type": "stream",
     "text": [
      "重たい扉から生まれた 異界の霧が月を呑むしっぽで割った夜空の風は 冷たい悲鳴が聞こえてる窮屈な窓の向こうから 嗄れた悲鳴が聞こえてるこの世で恐ろしいことは 恐怖よりも退屈だった哀れだね、人間 笑い止まらない その涙をいただくよ絶望が踊る12時過ぎに 契約を交わそうよでっびーでびでび 悪魔の ぼくにちょうだい アイスクリーム楽しい宴は続く 時代を飛び越えてでっびーでびでび 人類よ さあ聞かせて冷えたスクリーム\"だってドキドキは美味しい 最高のご馳走\n",
      "ああ 恐ろしい\n"
     ]
    }
   ],
   "source": [
    "print(debi_lylic)"
   ]
  },
  {
   "cell_type": "code",
   "execution_count": null,
   "id": "5613b2e4",
   "metadata": {},
   "outputs": [],
   "source": []
  }
 ],
 "metadata": {
  "kernelspec": {
   "display_name": "Python 3 (ipykernel)",
   "language": "python",
   "name": "python3"
  },
  "language_info": {
   "codemirror_mode": {
    "name": "ipython",
    "version": 3
   },
   "file_extension": ".py",
   "mimetype": "text/x-python",
   "name": "python",
   "nbconvert_exporter": "python",
   "pygments_lexer": "ipython3",
   "version": "3.9.12"
  }
 },
 "nbformat": 4,
 "nbformat_minor": 5
}
