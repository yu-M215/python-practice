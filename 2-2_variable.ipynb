{
 "cells": [
  {
   "cell_type": "code",
   "execution_count": 3,
   "id": "73692b1b",
   "metadata": {},
   "outputs": [
    {
     "data": {
      "text/plain": [
       "10.0"
      ]
     },
     "execution_count": 3,
     "metadata": {},
     "output_type": "execute_result"
    }
   ],
   "source": [
    "5/5*1+9"
   ]
  },
  {
   "cell_type": "code",
   "execution_count": 4,
   "id": "79b30f2c",
   "metadata": {},
   "outputs": [],
   "source": [
    "champernoqne = 0.12345678910"
   ]
  },
  {
   "cell_type": "code",
   "execution_count": 5,
   "id": "2ead9382",
   "metadata": {},
   "outputs": [],
   "source": [
    "champernowne_19 = 0.1234567891011121314"
   ]
  },
  {
   "cell_type": "code",
   "execution_count": 6,
   "id": "ed972f68",
   "metadata": {},
   "outputs": [],
   "source": [
    "pi = 3.141592"
   ]
  },
  {
   "cell_type": "code",
   "execution_count": 7,
   "id": "a3ebcfb1",
   "metadata": {},
   "outputs": [],
   "source": [
    "diameter = 12756.274"
   ]
  },
  {
   "cell_type": "code",
   "execution_count": 8,
   "id": "32885905",
   "metadata": {},
   "outputs": [
    {
     "data": {
      "text/plain": [
       "40075.008348208"
      ]
     },
     "execution_count": 8,
     "metadata": {},
     "output_type": "execute_result"
    }
   ],
   "source": [
    "pi*diameter"
   ]
  },
  {
   "cell_type": "code",
   "execution_count": 9,
   "id": "2d935c0b",
   "metadata": {},
   "outputs": [],
   "source": [
    "cal_per_1kg = 7200"
   ]
  },
  {
   "cell_type": "code",
   "execution_count": 10,
   "id": "2cefc7a2",
   "metadata": {},
   "outputs": [],
   "source": [
    "cal_per_1minjog = 7.76"
   ]
  },
  {
   "cell_type": "code",
   "execution_count": 11,
   "id": "b420bd5a",
   "metadata": {},
   "outputs": [],
   "source": [
    "min_to_lose1kg = cal_per_1kg/cal_per_1minjog"
   ]
  },
  {
   "cell_type": "code",
   "execution_count": 12,
   "id": "0b9fae3d",
   "metadata": {},
   "outputs": [],
   "source": [
    "hours_to_lose1kg = min_to_lose1kg/60"
   ]
  },
  {
   "cell_type": "code",
   "execution_count": 13,
   "id": "c29fa7a1",
   "metadata": {},
   "outputs": [
    {
     "data": {
      "text/plain": [
       "15.463917525773196"
      ]
     },
     "execution_count": 13,
     "metadata": {},
     "output_type": "execute_result"
    }
   ],
   "source": [
    "hours_to_lose1kg"
   ]
  }
 ],
 "metadata": {
  "kernelspec": {
   "display_name": "Python 3 (ipykernel)",
   "language": "python",
   "name": "python3"
  },
  "language_info": {
   "codemirror_mode": {
    "name": "ipython",
    "version": 3
   },
   "file_extension": ".py",
   "mimetype": "text/x-python",
   "name": "python",
   "nbconvert_exporter": "python",
   "pygments_lexer": "ipython3",
   "version": "3.9.12"
  }
 },
 "nbformat": 4,
 "nbformat_minor": 5
}
