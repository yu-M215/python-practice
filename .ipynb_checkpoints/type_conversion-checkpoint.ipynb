{
 "cells": [
  {
   "cell_type": "code",
   "execution_count": 1,
   "id": "61ca114d",
   "metadata": {},
   "outputs": [],
   "source": [
    "day = 24"
   ]
  },
  {
   "cell_type": "code",
   "execution_count": 2,
   "id": "2cf8847a",
   "metadata": {},
   "outputs": [
    {
     "ename": "TypeError",
     "evalue": "unsupported operand type(s) for +: 'int' and 'str'",
     "output_type": "error",
     "traceback": [
      "\u001b[0;31m---------------------------------------------------------------------------\u001b[0m",
      "\u001b[0;31mTypeError\u001b[0m                                 Traceback (most recent call last)",
      "Input \u001b[0;32mIn [2]\u001b[0m, in \u001b[0;36m<cell line: 1>\u001b[0;34m()\u001b[0m\n\u001b[0;32m----> 1\u001b[0m date \u001b[38;5;241m=\u001b[39m \u001b[43mday\u001b[49m\u001b[43m \u001b[49m\u001b[38;5;241;43m+\u001b[39;49m\u001b[43m \u001b[49m\u001b[38;5;124;43m\"\u001b[39;49m\u001b[38;5;124;43m日\u001b[39;49m\u001b[38;5;124;43m\"\u001b[39;49m\n",
      "\u001b[0;31mTypeError\u001b[0m: unsupported operand type(s) for +: 'int' and 'str'"
     ]
    }
   ],
   "source": [
    "date = day + \"日\""
   ]
  },
  {
   "cell_type": "code",
   "execution_count": 3,
   "id": "c7369fd8",
   "metadata": {},
   "outputs": [],
   "source": [
    "# 上の式はエラーになる"
   ]
  },
  {
   "cell_type": "code",
   "execution_count": 4,
   "id": "ff857b97",
   "metadata": {},
   "outputs": [],
   "source": [
    "# 数値と文字列はそのままでは+で計算できない"
   ]
  },
  {
   "cell_type": "code",
   "execution_count": 5,
   "id": "93b4cc22",
   "metadata": {},
   "outputs": [],
   "source": [
    "# Pythonで型変換をするときは関数を使う"
   ]
  },
  {
   "cell_type": "code",
   "execution_count": 6,
   "id": "2f4666be",
   "metadata": {},
   "outputs": [
    {
     "name": "stdout",
     "output_type": "stream",
     "text": [
      "スパムおいしい\n"
     ]
    }
   ],
   "source": [
    "print(\"スパムおいしい\")"
   ]
  },
  {
   "cell_type": "code",
   "execution_count": 7,
   "id": "d4e9ba0f",
   "metadata": {},
   "outputs": [],
   "source": [
    "day = 24"
   ]
  },
  {
   "cell_type": "code",
   "execution_count": 8,
   "id": "d12f05b8",
   "metadata": {},
   "outputs": [],
   "source": [
    "str_day = str(day)"
   ]
  },
  {
   "cell_type": "code",
   "execution_count": 9,
   "id": "46f8c45a",
   "metadata": {},
   "outputs": [],
   "source": [
    "date = str_day + \"日\""
   ]
  },
  {
   "cell_type": "code",
   "execution_count": 10,
   "id": "6b723c97",
   "metadata": {},
   "outputs": [
    {
     "data": {
      "text/plain": [
       "'24日'"
      ]
     },
     "execution_count": 10,
     "metadata": {},
     "output_type": "execute_result"
    }
   ],
   "source": [
    "date"
   ]
  },
  {
   "cell_type": "code",
   "execution_count": 11,
   "id": "72e5ae2f",
   "metadata": {},
   "outputs": [],
   "source": [
    "# 上記のように型変換を行うと+を用いた連結ができる\n"
   ]
  },
  {
   "cell_type": "code",
   "execution_count": 12,
   "id": "f918f9ab",
   "metadata": {},
   "outputs": [],
   "source": [
    "# str()のような関数は組み込み関数と呼ばれている"
   ]
  },
  {
   "cell_type": "code",
   "execution_count": 13,
   "id": "51d98592",
   "metadata": {},
   "outputs": [],
   "source": [
    "# 文字列を数値に変換する場合は　int()やfloat() を用いる"
   ]
  },
  {
   "cell_type": "code",
   "execution_count": 18,
   "id": "b96da28b",
   "metadata": {
    "scrolled": true
   },
   "outputs": [
    {
     "data": {
      "text/plain": [
       "200"
      ]
     },
     "execution_count": 18,
     "metadata": {},
     "output_type": "execute_result"
    }
   ],
   "source": [
    "int(\"200\") # int（） には数字のみで構成された文字列を渡す"
   ]
  },
  {
   "cell_type": "code",
   "execution_count": 19,
   "id": "f8419a5b",
   "metadata": {},
   "outputs": [
    {
     "data": {
      "text/plain": [
       "3.141519265358979"
      ]
     },
     "execution_count": 19,
     "metadata": {},
     "output_type": "execute_result"
    }
   ],
   "source": [
    "float(\"3.141519265358979\") # float() には数字と小数点のみで構成された文字列を渡す"
   ]
  },
  {
   "cell_type": "code",
   "execution_count": null,
   "id": "d129f218",
   "metadata": {},
   "outputs": [],
   "source": []
  }
 ],
 "metadata": {
  "kernelspec": {
   "display_name": "Python 3 (ipykernel)",
   "language": "python",
   "name": "python3"
  },
  "language_info": {
   "codemirror_mode": {
    "name": "ipython",
    "version": 3
   },
   "file_extension": ".py",
   "mimetype": "text/x-python",
   "name": "python",
   "nbconvert_exporter": "python",
   "pygments_lexer": "ipython3",
   "version": "3.9.12"
  }
 },
 "nbformat": 4,
 "nbformat_minor": 5
}
