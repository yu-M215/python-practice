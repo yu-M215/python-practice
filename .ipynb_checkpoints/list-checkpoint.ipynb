{
 "cells": [
  {
   "cell_type": "code",
   "execution_count": 1,
   "id": "ff0cb631",
   "metadata": {},
   "outputs": [],
   "source": [
    "tokyo_temps = [15.1, 15.4, 15.2, 15.4, 17.0, 16.9]"
   ]
  },
  {
   "cell_type": "code",
   "execution_count": 2,
   "id": "d3f89663",
   "metadata": {},
   "outputs": [],
   "source": [
    "%matplotlib inline"
   ]
  },
  {
   "cell_type": "code",
   "execution_count": 3,
   "id": "af04458b",
   "metadata": {},
   "outputs": [],
   "source": [
    "import matplotlib.pyplot as plt"
   ]
  },
  {
   "cell_type": "code",
   "execution_count": 4,
   "id": "4cc61bf8",
   "metadata": {},
   "outputs": [
    {
     "data": {
      "text/plain": [
       "[<matplotlib.lines.Line2D at 0x7f9b408bfaf0>]"
      ]
     },
     "execution_count": 4,
     "metadata": {},
     "output_type": "execute_result"
    },
    {
     "data": {
      "image/png": "[encoded data removed]",
      "text/plain": [
       "<Figure size 432x288 with 1 Axes>"
      ]
     },
     "metadata": {
      "needs_background": "light"
     },
     "output_type": "display_data"
    }
   ],
   "source": [
    "plt.plot(tokyo_temps)"
   ]
  },
  {
   "cell_type": "code",
   "execution_count": 6,
   "id": "73b11ed1",
   "metadata": {},
   "outputs": [],
   "source": [
    "# 上のおまじないでリストに格納した値をグラフで表示することができる"
   ]
  },
  {
   "cell_type": "code",
   "execution_count": 7,
   "id": "39eb1d16",
   "metadata": {},
   "outputs": [
    {
     "data": {
      "text/plain": [
       "15.1"
      ]
     },
     "execution_count": 7,
     "metadata": {},
     "output_type": "execute_result"
    }
   ],
   "source": [
    "tokyo_temps[0]"
   ]
  },
  {
   "cell_type": "code",
   "execution_count": 9,
   "id": "709ac38c",
   "metadata": {},
   "outputs": [],
   "source": [
    "# インデックスでリストに格納した要素を取り出すことができる"
   ]
  },
  {
   "cell_type": "code",
   "execution_count": 10,
   "id": "46f4c22a",
   "metadata": {},
   "outputs": [],
   "source": [
    "# リスト要素の計算も可能"
   ]
  },
  {
   "cell_type": "code",
   "execution_count": 11,
   "id": "3622edc2",
   "metadata": {},
   "outputs": [
    {
     "data": {
      "text/plain": [
       "1.799999999999999"
      ]
     },
     "execution_count": 11,
     "metadata": {},
     "output_type": "execute_result"
    }
   ],
   "source": [
    "tokyo_temps[5] - tokyo_temps[0]"
   ]
  },
  {
   "cell_type": "code",
   "execution_count": 12,
   "id": "aa5d03e3",
   "metadata": {},
   "outputs": [],
   "source": [
    "# tokyo_tempsのリストの0番目には1950年の平均気温、5番目には２０００年の平均気温が入っているため、約50年で平均気温がどれだけ上がったか上の計算でわかる"
   ]
  },
  {
   "cell_type": "code",
   "execution_count": 13,
   "id": "39a3a15e",
   "metadata": {},
   "outputs": [],
   "source": [
    "# インデックスには - の数字を与えることもできる"
   ]
  },
  {
   "cell_type": "code",
   "execution_count": 14,
   "id": "d75b96b8",
   "metadata": {},
   "outputs": [
    {
     "data": {
      "text/plain": [
       "1.799999999999999"
      ]
     },
     "execution_count": 14,
     "metadata": {},
     "output_type": "execute_result"
    }
   ],
   "source": [
    "tokyo_temps[-1] -tokyo_temps[0]"
   ]
  },
  {
   "cell_type": "code",
   "execution_count": 15,
   "id": "2c18000f",
   "metadata": {},
   "outputs": [],
   "source": [
    "# インデックスに -1 を与えるとリストの一番最後の要素を指定できる"
   ]
  },
  {
   "cell_type": "code",
   "execution_count": 16,
   "id": "36150243",
   "metadata": {},
   "outputs": [],
   "source": [
    "# Pythonではリストの足し算も可能"
   ]
  },
  {
   "cell_type": "code",
   "execution_count": 17,
   "id": "3ce9488c",
   "metadata": {},
   "outputs": [],
   "source": [
    "# リストの足し算を行うと、2つのリストを連結した新しいリストを作成できる"
   ]
  },
  {
   "cell_type": "code",
   "execution_count": 18,
   "id": "97397516",
   "metadata": {},
   "outputs": [],
   "source": [
    "e_tokyo_temps = [13.6, 13.5, 14.2, 14.8, 14.8]"
   ]
  },
  {
   "cell_type": "code",
   "execution_count": 19,
   "id": "4e4ea20b",
   "metadata": {},
   "outputs": [],
   "source": [
    "tokyo_temps2 = e_tokyo_temps + tokyo_temps"
   ]
  },
  {
   "cell_type": "code",
   "execution_count": 20,
   "id": "5894f02b",
   "metadata": {},
   "outputs": [
    {
     "name": "stdout",
     "output_type": "stream",
     "text": [
      "[13.6, 13.5, 14.2, 14.8, 14.8, 15.1, 15.4, 15.2, 15.4, 17.0, 16.9]\n"
     ]
    }
   ],
   "source": [
    "print(tokyo_temps2)"
   ]
  },
  {
   "cell_type": "code",
   "execution_count": 21,
   "id": "8435efd2",
   "metadata": {},
   "outputs": [],
   "source": [
    "# 連結したリストをグラフで表示してみる"
   ]
  },
  {
   "cell_type": "code",
   "execution_count": 22,
   "id": "1fd1b5b6",
   "metadata": {},
   "outputs": [
    {
     "data": {
      "text/plain": [
       "[<matplotlib.lines.Line2D at 0x7f9b2282f700>]"
      ]
     },
     "execution_count": 22,
     "metadata": {},
     "output_type": "execute_result"
    },
    {
     "data": {
      "image/png": "[encoded data removed]",
      "text/plain": [
       "<Figure size 432x288 with 1 Axes>"
      ]
     },
     "metadata": {
      "needs_background": "light"
     },
     "output_type": "display_data"
    }
   ],
   "source": [
    "plt.plot(tokyo_temps2)"
   ]
  },
  {
   "cell_type": "code",
   "execution_count": 23,
   "id": "11b2f1ef",
   "metadata": {},
   "outputs": [],
   "source": [
    "# インデックス指定とイコールを使った代入を組み合わせると、リストの要素を置き換えることができる"
   ]
  },
  {
   "cell_type": "code",
   "execution_count": 24,
   "id": "50c7a106",
   "metadata": {},
   "outputs": [],
   "source": [
    "mcz = [\"れに\", \"あかり\", \"かなこ\", \"しおり\", \"あやか\", \"ゆきな\"]"
   ]
  },
  {
   "cell_type": "code",
   "execution_count": 25,
   "id": "9bd01a9c",
   "metadata": {},
   "outputs": [
    {
     "data": {
      "text/plain": [
       "['れに', 'あかり', 'かなこ', 'しおり', 'あやか', 'ゆきな']"
      ]
     },
     "execution_count": 25,
     "metadata": {},
     "output_type": "execute_result"
    }
   ],
   "source": [
    "mcz"
   ]
  },
  {
   "cell_type": "code",
   "execution_count": 26,
   "id": "2c33eb96",
   "metadata": {},
   "outputs": [],
   "source": [
    "# リストの最後の要素の文字列を入れ替える"
   ]
  },
  {
   "cell_type": "code",
   "execution_count": 27,
   "id": "a38d6cad",
   "metadata": {},
   "outputs": [],
   "source": [
    "mcz[5] = 'ももか'"
   ]
  },
  {
   "cell_type": "code",
   "execution_count": 28,
   "id": "85b90c68",
   "metadata": {},
   "outputs": [
    {
     "data": {
      "text/plain": [
       "['れに', 'あかり', 'かなこ', 'しおり', 'あやか', 'ももか']"
      ]
     },
     "execution_count": 28,
     "metadata": {},
     "output_type": "execute_result"
    }
   ],
   "source": [
    "mcz"
   ]
  },
  {
   "cell_type": "code",
   "execution_count": 29,
   "id": "660478c6",
   "metadata": {},
   "outputs": [],
   "source": [
    "# インデックスを指定してリストの要素を削除してみる"
   ]
  },
  {
   "cell_type": "code",
   "execution_count": 30,
   "id": "2efda1f3",
   "metadata": {},
   "outputs": [],
   "source": [
    "# リストの要素を削除するにはdel文を使う"
   ]
  },
  {
   "cell_type": "code",
   "execution_count": 31,
   "id": "4d9abc19",
   "metadata": {},
   "outputs": [],
   "source": [
    "del mcz[0]"
   ]
  },
  {
   "cell_type": "code",
   "execution_count": 32,
   "id": "d8a7e193",
   "metadata": {},
   "outputs": [
    {
     "data": {
      "text/plain": [
       "['あかり', 'かなこ', 'しおり', 'あやか', 'ももか']"
      ]
     },
     "execution_count": 32,
     "metadata": {},
     "output_type": "execute_result"
    }
   ],
   "source": [
    "mcz"
   ]
  },
  {
   "cell_type": "code",
   "execution_count": 33,
   "id": "91349330",
   "metadata": {},
   "outputs": [
    {
     "data": {
      "text/plain": [
       "'あかり'"
      ]
     },
     "execution_count": 33,
     "metadata": {},
     "output_type": "execute_result"
    }
   ],
   "source": [
    "mcz[0]"
   ]
  },
  {
   "cell_type": "code",
   "execution_count": 34,
   "id": "0ad86539",
   "metadata": {},
   "outputs": [],
   "source": [
    "# スライスを利用して連続した複数の要素を指定する"
   ]
  },
  {
   "cell_type": "code",
   "execution_count": 35,
   "id": "83e2ded4",
   "metadata": {},
   "outputs": [],
   "source": [
    "# スライスの記法"
   ]
  },
  {
   "cell_type": "code",
   "execution_count": 36,
   "id": "6a054c81",
   "metadata": {},
   "outputs": [],
   "source": [
    "# リスト名[最初の要素のインデックス:最後の要素のインデックス+1]"
   ]
  },
  {
   "cell_type": "code",
   "execution_count": 37,
   "id": "270e51da",
   "metadata": {},
   "outputs": [],
   "source": [
    "momotamai = mcz[1:3]"
   ]
  },
  {
   "cell_type": "code",
   "execution_count": 38,
   "id": "6f00675a",
   "metadata": {},
   "outputs": [
    {
     "data": {
      "text/plain": [
       "['かなこ', 'しおり']"
      ]
     },
     "execution_count": 38,
     "metadata": {},
     "output_type": "execute_result"
    }
   ],
   "source": [
    "momotamai"
   ]
  },
  {
   "cell_type": "code",
   "execution_count": 39,
   "id": "451e10b1",
   "metadata": {},
   "outputs": [],
   "source": [
    "# スライスでは取り出した要素のコピーを返すため、元のリストは変更されない"
   ]
  },
  {
   "cell_type": "code",
   "execution_count": 40,
   "id": "3cbccc75",
   "metadata": {},
   "outputs": [],
   "source": [
    "# スライスで左側の要素を省略した場合は最初の要素から取り出される"
   ]
  },
  {
   "cell_type": "code",
   "execution_count": 41,
   "id": "f5dc6a2b",
   "metadata": {},
   "outputs": [
    {
     "data": {
      "text/plain": [
       "['あかり', 'かなこ']"
      ]
     },
     "execution_count": 41,
     "metadata": {},
     "output_type": "execute_result"
    }
   ],
   "source": [
    "mcz[:2]"
   ]
  },
  {
   "cell_type": "code",
   "execution_count": 42,
   "id": "afaf315e",
   "metadata": {},
   "outputs": [
    {
     "data": {
      "text/plain": [
       "['あかり']"
      ]
     },
     "execution_count": 42,
     "metadata": {},
     "output_type": "execute_result"
    }
   ],
   "source": [
    "mcz[:1]"
   ]
  },
  {
   "cell_type": "code",
   "execution_count": 43,
   "id": "21b086f8",
   "metadata": {},
   "outputs": [],
   "source": [
    "# 右側を省略した場合は、最後の要素までを取り出す"
   ]
  },
  {
   "cell_type": "code",
   "execution_count": 46,
   "id": "b1efa013",
   "metadata": {},
   "outputs": [
    {
     "data": {
      "text/plain": [
       "['かなこ', 'しおり', 'あやか', 'ももか']"
      ]
     },
     "execution_count": 46,
     "metadata": {},
     "output_type": "execute_result"
    }
   ],
   "source": [
    "mcz[1:]"
   ]
  },
  {
   "cell_type": "code",
   "execution_count": 47,
   "id": "54875f11",
   "metadata": {},
   "outputs": [],
   "source": [
    "# 1つの数値だけで要素を指し示せる表を一次元配列と呼ぶ"
   ]
  },
  {
   "cell_type": "code",
   "execution_count": 48,
   "id": "ed52fe21",
   "metadata": {},
   "outputs": [],
   "source": [
    "# 要素を指し示すのに2つの数値(縦軸、横軸)が必要な表は2次元配列と呼ぶ"
   ]
  },
  {
   "cell_type": "code",
   "execution_count": 49,
   "id": "b312347a",
   "metadata": {},
   "outputs": [],
   "source": [
    "# 2次元配列を表現する場合、リストの中にリストを定義する記法を用いる"
   ]
  },
  {
   "cell_type": "code",
   "execution_count": 54,
   "id": "e5c719c2",
   "metadata": {},
   "outputs": [],
   "source": [
    "city_temps = [\n",
    "    [14.8, 14.8, 15.1, 15.4, 15.2, 15.4, 17.0, 16.9],\n",
    "    [10.0, 10.4, 11.5, 11.2, 10.9, 10.6, 11.8, 12.2],\n",
    "    [16.0, 15.5, 15.9, 16.4, 15.9, 15.6, 17.5, 17.1]\n",
    "]"
   ]
  },
  {
   "cell_type": "code",
   "execution_count": 51,
   "id": "81b8d8a4",
   "metadata": {},
   "outputs": [],
   "source": [
    "# city には順番に東京、秋田、熊本の平均気温を格納している"
   ]
  },
  {
   "cell_type": "code",
   "execution_count": 53,
   "id": "06e08d90",
   "metadata": {},
   "outputs": [],
   "source": [
    "# 秋田市の平均気温リストを表示する"
   ]
  },
  {
   "cell_type": "code",
   "execution_count": 55,
   "id": "bc9199a9",
   "metadata": {},
   "outputs": [
    {
     "data": {
      "text/plain": [
       "[10.0, 10.4, 11.5, 11.2, 10.9, 10.6, 11.8, 12.2]"
      ]
     },
     "execution_count": 55,
     "metadata": {},
     "output_type": "execute_result"
    }
   ],
   "source": [
    "city_temps[1]"
   ]
  },
  {
   "cell_type": "code",
   "execution_count": 56,
   "id": "9090b830",
   "metadata": {},
   "outputs": [],
   "source": [
    "# 熊本市の平均気温を比較する"
   ]
  },
  {
   "cell_type": "code",
   "execution_count": 57,
   "id": "295c4f84",
   "metadata": {},
   "outputs": [
    {
     "data": {
      "text/plain": [
       "1.1000000000000014"
      ]
     },
     "execution_count": 57,
     "metadata": {},
     "output_type": "execute_result"
    }
   ],
   "source": [
    "city_temps[2][7] - city_temps[2][0]"
   ]
  },
  {
   "cell_type": "code",
   "execution_count": 58,
   "id": "ab4b4bc3",
   "metadata": {},
   "outputs": [],
   "source": [
    "# plt.plot() を呼び出し、グラフを重ねて表示する"
   ]
  },
  {
   "cell_type": "code",
   "execution_count": 59,
   "id": "ebc7779c",
   "metadata": {},
   "outputs": [
    {
     "data": {
      "text/plain": [
       "[<matplotlib.lines.Line2D at 0x7f9b2297f5b0>]"
      ]
     },
     "execution_count": 59,
     "metadata": {},
     "output_type": "execute_result"
    },
    {
     "data": {
      "image/png": "[encoded data removed]",
      "text/plain": [
       "<Figure size 432x288 with 1 Axes>"
      ]
     },
     "metadata": {
      "needs_background": "light"
     },
     "output_type": "display_data"
    }
   ],
   "source": [
    "plt.plot(city_temps[0])\n",
    "plt.plot(city_temps[1])\n",
    "plt.plot(city_temps[2])"
   ]
  },
  {
   "cell_type": "code",
   "execution_count": 60,
   "id": "32ab1d17",
   "metadata": {},
   "outputs": [],
   "source": [
    "# 組み込み関数の sum() を用いてリストの合計を得る"
   ]
  },
  {
   "cell_type": "code",
   "execution_count": 61,
   "id": "6891043d",
   "metadata": {},
   "outputs": [],
   "source": [
    "# 茨城県のとある高校に在籍する生徒の身長をリストに定義"
   ]
  },
  {
   "cell_type": "code",
   "execution_count": 62,
   "id": "44be55f8",
   "metadata": {},
   "outputs": [],
   "source": [
    "monk_fish_team = [158, 157, 163, 157, 145]"
   ]
  },
  {
   "cell_type": "code",
   "execution_count": 63,
   "id": "b29ddd1d",
   "metadata": {},
   "outputs": [],
   "source": [
    "# 合計値を求める"
   ]
  },
  {
   "cell_type": "code",
   "execution_count": 64,
   "id": "6f8a5b82",
   "metadata": {},
   "outputs": [
    {
     "data": {
      "text/plain": [
       "780"
      ]
     },
     "execution_count": 64,
     "metadata": {},
     "output_type": "execute_result"
    }
   ],
   "source": [
    "sum(monk_fish_team)"
   ]
  },
  {
   "cell_type": "code",
   "execution_count": 65,
   "id": "802c25d2",
   "metadata": {},
   "outputs": [],
   "source": [
    "# リストの最大値と最小値を求める"
   ]
  },
  {
   "cell_type": "code",
   "execution_count": 66,
   "id": "0ccf0e2a",
   "metadata": {},
   "outputs": [],
   "source": [
    "# 組み込み関数 max() で最大値、 min() で最小値を求められる "
   ]
  },
  {
   "cell_type": "code",
   "execution_count": 67,
   "id": "8d16b584",
   "metadata": {},
   "outputs": [
    {
     "data": {
      "text/plain": [
       "163"
      ]
     },
     "execution_count": 67,
     "metadata": {},
     "output_type": "execute_result"
    }
   ],
   "source": [
    "max(monk_fish_team)"
   ]
  },
  {
   "cell_type": "code",
   "execution_count": 68,
   "id": "ee456ae3",
   "metadata": {},
   "outputs": [
    {
     "data": {
      "text/plain": [
       "145"
      ]
     },
     "execution_count": 68,
     "metadata": {},
     "output_type": "execute_result"
    }
   ],
   "source": [
    "min(monk_fish_team)"
   ]
  },
  {
   "cell_type": "code",
   "execution_count": 69,
   "id": "e47535b5",
   "metadata": {},
   "outputs": [],
   "source": [
    "# リストの要素数を調べる場合は組み込み関数 len() を求める"
   ]
  },
  {
   "cell_type": "code",
   "execution_count": 70,
   "id": "a4e99f65",
   "metadata": {},
   "outputs": [
    {
     "data": {
      "text/plain": [
       "5"
      ]
     },
     "execution_count": 70,
     "metadata": {},
     "output_type": "execute_result"
    }
   ],
   "source": [
    "len(monk_fish_team)"
   ]
  },
  {
   "cell_type": "code",
   "execution_count": 71,
   "id": "0e44e8ec",
   "metadata": {},
   "outputs": [],
   "source": [
    "# 上記をもとに、リストの平均を求める"
   ]
  },
  {
   "cell_type": "code",
   "execution_count": 72,
   "id": "c89b17cb",
   "metadata": {},
   "outputs": [],
   "source": [
    "monk_sum = sum(monk_fish_team)"
   ]
  },
  {
   "cell_type": "code",
   "execution_count": 73,
   "id": "9706e0d8",
   "metadata": {},
   "outputs": [],
   "source": [
    "monk_len = len(monk_fish_team)"
   ]
  },
  {
   "cell_type": "code",
   "execution_count": 74,
   "id": "31db2aa2",
   "metadata": {},
   "outputs": [],
   "source": [
    "monk_mean = monk_sum / monk_len"
   ]
  },
  {
   "cell_type": "code",
   "execution_count": 75,
   "id": "a2ec7144",
   "metadata": {},
   "outputs": [
    {
     "data": {
      "text/plain": [
       "156.0"
      ]
     },
     "execution_count": 75,
     "metadata": {},
     "output_type": "execute_result"
    }
   ],
   "source": [
    "monk_mean"
   ]
  },
  {
   "cell_type": "code",
   "execution_count": 76,
   "id": "9d9e4ed4",
   "metadata": {},
   "outputs": [],
   "source": [
    "# plt.bar() を利用して棒グラフを描く"
   ]
  },
  {
   "cell_type": "code",
   "execution_count": 77,
   "id": "8d7ed4aa",
   "metadata": {},
   "outputs": [
    {
     "data": {
      "text/plain": [
       "[<matplotlib.lines.Line2D at 0x7f9b220d9550>]"
      ]
     },
     "execution_count": 77,
     "metadata": {},
     "output_type": "execute_result"
    },
    {
     "data": {
      "image/png": "[encoded data removed]",
      "text/plain": [
       "<Figure size 432x288 with 1 Axes>"
      ]
     },
     "metadata": {
      "needs_background": "light"
     },
     "output_type": "display_data"
    }
   ],
   "source": [
    "plt.bar([0, 1, 2, 3, 4], monk_fish_team)\n",
    "plt.plot([0, len(monk_fish_team)], [monk_mean, monk_mean], color = 'red')"
   ]
  },
  {
   "cell_type": "code",
   "execution_count": null,
   "id": "b302f3f2",
   "metadata": {},
   "outputs": [],
   "source": []
  }
 ],
 "metadata": {
  "kernelspec": {
   "display_name": "Python 3 (ipykernel)",
   "language": "python",
   "name": "python3"
  },
  "language_info": {
   "codemirror_mode": {
    "name": "ipython",
    "version": 3
   },
   "file_extension": ".py",
   "mimetype": "text/x-python",
   "name": "python",
   "nbconvert_exporter": "python",
   "pygments_lexer": "ipython3",
   "version": "3.9.12"
  }
 },
 "nbformat": 4,
 "nbformat_minor": 5
}
